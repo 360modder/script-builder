{
  "nbformat": 4,
  "nbformat_minor": 0,
  "metadata": {
    "colab": {
      "name": "Kivy Project To APK Using Google Colab.ipynb",
      "provenance": [],
      "collapsed_sections": []
    },
    "kernelspec": {
      "display_name": "Python 3",
      "language": "python",
      "name": "python3"
    },
    "language_info": {
      "codemirror_mode": {
        "name": "ipython",
        "version": 3
      },
      "file_extension": ".py",
      "mimetype": "text/x-python",
      "name": "python",
      "nbconvert_exporter": "python",
      "pygments_lexer": "ipython3",
      "version": "3.8.5"
    }
  },
  "cells": [
    {
      "cell_type": "markdown",
      "metadata": {
        "id": "mW2gySHo44bO"
      },
      "source": [
        "## Kivy Project To APK Using Google Colab"
      ]
    },
    {
      "cell_type": "markdown",
      "metadata": {
        "id": "d1l-fF_0irUU"
      },
      "source": [
        "## Installing All Dependencies (Automatic)"
      ]
    },
    {
      "cell_type": "code",
      "metadata": {
        "id": "2oz6ZMbziD8t"
      },
      "source": [
        "!wget https://github.com/HeaTTheatR/KivyMD-data/raw/master/install-kivy-buildozer-dependencies.sh\r\n",
        "!chmod +x install-kivy-buildozer-dependencies.sh\r\n",
        "!./install-kivy-buildozer-dependencies.sh"
      ],
      "execution_count": null,
      "outputs": []
    },
    {
      "cell_type": "markdown",
      "metadata": {
        "id": "sMhfzR2V5U2k"
      },
      "source": [
        "## Installing All Dependencies (Manual)"
      ]
    },
    {
      "cell_type": "code",
      "metadata": {
        "id": "JC2H94GVaO1M"
      },
      "source": [
        "!lsb_release -a\n",
        "!pip install buildozer kivy kivymd plyer\n",
        "!pip install cython==0.29.19\n",
        "!sudo apt-get install -y python3-pip build-essential git python3 python3-dev ffmpeg libsdl2-dev libsdl2-image-dev libsdl2-mixer-dev libsdl2-ttf-dev libportmidi-dev libswscale-dev libavformat-dev libavcodec-dev zlib1g-dev\n",
        "!sudo apt-get install -y libgstreamer1.0 gstreamer1.0-plugins-base gstreamer1.0-plugins-good\n",
        "!sudo apt-get install build-essential libsqlite3-dev sqlite3 bzip2 libbz2-dev zlib1g-dev libssl-dev openssl libgdbm-dev libgdbm-compat-dev liblzma-dev libreadline-dev libncursesw5-dev libffi-dev uuid-dev libffi6\n",
        "!sudo apt-get install libffi-dev"
      ],
      "execution_count": null,
      "outputs": []
    },
    {
      "cell_type": "markdown",
      "metadata": {
        "id": "7MqqgWM_418t"
      },
      "source": [
        "## Creating SPEC File"
      ]
    },
    {
      "cell_type": "code",
      "metadata": {
        "id": "N1OMXvxZaW1d"
      },
      "source": [
        "!yes | buildozer init"
      ],
      "execution_count": null,
      "outputs": []
    },
    {
      "cell_type": "markdown",
      "metadata": {
        "id": "WA9aIvjH5lvE"
      },
      "source": [
        "## Deploying Kivy APK In bin Folder (Normal Run)"
      ]
    },
    {
      "cell_type": "code",
      "metadata": {
        "id": "YUvKdnB7SzI5"
      },
      "source": [
        "!yes | buildozer -v android debug"
      ],
      "execution_count": null,
      "outputs": []
    },
    {
      "cell_type": "markdown",
      "metadata": {
        "id": "_ZNlVXD7SzI6"
      },
      "source": [
        "## Deploying Kivy APK In bin Folder (Clean Run)"
      ]
    },
    {
      "cell_type": "code",
      "metadata": {
        "id": "Vz7YvKFZbCoX"
      },
      "source": [
        "!yes | buildozer android clean\n",
        "!yes | buildozer -v android debug"
      ],
      "execution_count": null,
      "outputs": []
    },
    {
      "cell_type": "markdown",
      "metadata": {
        "id": "ynmRqy11zNzK"
      },
      "source": [
        "## Signing And Creating A Release APK (https://github.com/kivy/kivy/wiki/Creating-a-Release-APK)\r\n",
        "\r\n"
      ]
    },
    {
      "cell_type": "code",
      "metadata": {
        "id": "64_LreZD0S_k"
      },
      "source": [
        "!mkdir -p ~/keystores/"
      ],
      "execution_count": null,
      "outputs": []
    },
    {
      "cell_type": "code",
      "metadata": {
        "id": "vy0Xn7SOOWlb"
      },
      "source": [
        "!keytool -genkey -v -keystore ~/keystores/<your-new-key>.keystore -alias <your-key-alias> -keyalg RSA -keysize 2048 -validity 10000"
      ],
      "execution_count": null,
      "outputs": []
    },
    {
      "cell_type": "code",
      "metadata": {
        "id": "daK4HCyukv92"
      },
      "source": [
        "!keytool -importkeystore -srckeystore ~/keystores/<your-new-key>.keystore -destkeystore ~/keystores/<your-new-key>.keystore -deststoretype pkcs12"
      ],
      "execution_count": null,
      "outputs": []
    },
    {
      "cell_type": "code",
      "metadata": {
        "id": "7I9IJFe1jMEu"
      },
      "source": [
        "!export P4A_RELEASE_KEYSTORE=~/keystores/<your-new-key>.keystore\r\n",
        "!export P4A_RELEASE_KEYSTORE_PASSWD=\"<your-keystore-password>\"\r\n",
        "!export P4A_RELEASE_KEYALIAS_PASSWD=\"<your-key-alias-password>\"\r\n",
        "!export P4A_RELEASE_KEYALIAS=<your-key-alias>\r\n",
        "!yes | buildozer -v android release\r\n",
        "!~/.buildozer/android/platform/android-sdk-20/build-tools/23.0.1/zipalign -v 4 ./bin/Your-App-0.1-release.apk ./bin/Your-App-0.1-release-optimized.apk"
      ],
      "execution_count": null,
      "outputs": []
    }
  ]
}