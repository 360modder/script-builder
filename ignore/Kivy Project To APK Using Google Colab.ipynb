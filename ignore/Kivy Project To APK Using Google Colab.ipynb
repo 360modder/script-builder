{
 "cells": [
  {
   "cell_type": "markdown",
   "metadata": {
    "id": "mW2gySHo44bO"
   },
   "source": [
    "## Kivy Project To APK Using Google Colab"
   ]
  },
  {
   "cell_type": "markdown",
   "metadata": {
    "id": "sMhfzR2V5U2k"
   },
   "source": [
    "## Installing All Dependencies"
   ]
  },
  {
   "cell_type": "code",
   "execution_count": null,
   "metadata": {
    "id": "JC2H94GVaO1M"
   },
   "outputs": [],
   "source": [
    "!pip install buildozer kivy kivymd\n",
    "!pip install cython==0.29.19\n",
    "!lsb_release -a\n",
    "!sudo apt-get install -y python3-pip build-essential git python3 python3-dev ffmpeg libsdl2-dev libsdl2-image-dev libsdl2-mixer-dev libsdl2-ttf-dev libportmidi-dev libswscale-dev libavformat-dev libavcodec-dev zlib1g-dev\n",
    "!sudo apt-get install -y libgstreamer1.0 gstreamer1.0-plugins-base gstreamer1.0-plugins-good\n",
    "!sudo apt-get install build-essential libsqlite3-dev sqlite3 bzip2 libbz2-dev zlib1g-dev libssl-dev openssl libgdbm-dev libgdbm-compat-dev liblzma-dev libreadline-dev libncursesw5-dev libffi-dev uuid-dev libffi6\n",
    "!sudo apt-get install libffi-dev"
   ]
  },
  {
   "cell_type": "markdown",
   "metadata": {
    "id": "7MqqgWM_418t"
   },
   "source": [
    "## Creating SPEC File"
   ]
  },
  {
   "cell_type": "code",
   "execution_count": null,
   "metadata": {
    "id": "N1OMXvxZaW1d"
   },
   "outputs": [],
   "source": [
    "!yes | buildozer init"
   ]
  },
  {
   "cell_type": "markdown",
   "metadata": {
    "id": "WA9aIvjH5lvE"
   },
   "source": [
    "## Deploying Kivy APK In bin Folder (Normal Run)"
   ]
  },
  {
   "cell_type": "code",
   "execution_count": null,
   "metadata": {},
   "outputs": [],
   "source": [
    "!yes | buildozer -v android debug"
   ]
  },
  {
   "cell_type": "markdown",
   "metadata": {},
   "source": [
    "## Deploying Kivy APK In bin Folder (Clean Run)"
   ]
  },
  {
   "cell_type": "code",
   "execution_count": null,
   "metadata": {
    "id": "Vz7YvKFZbCoX"
   },
   "outputs": [],
   "source": [
    "!yes | buildozer android clean\n",
    "!yes | buildozer -v android debug"
   ]
  }
 ],
 "metadata": {
  "colab": {
   "collapsed_sections": [],
   "name": "android_app.ipynb",
   "provenance": []
  },
  "kernelspec": {
   "display_name": "Python 3",
   "language": "python",
   "name": "python3"
  },
  "language_info": {
   "codemirror_mode": {
    "name": "ipython",
    "version": 3
   },
   "file_extension": ".py",
   "mimetype": "text/x-python",
   "name": "python",
   "nbconvert_exporter": "python",
   "pygments_lexer": "ipython3",
   "version": "3.8.5"
  }
 },
 "nbformat": 4,
 "nbformat_minor": 1
}
